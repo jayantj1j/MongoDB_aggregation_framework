{
 "cells": [
  {
   "cell_type": "code",
   "execution_count": null,
   "metadata": {},
   "outputs": [],
   "source": [
    "from pymongo import MongoClient\n",
    "import urllib.parse\n",
    "\n",
    "username = urllib.parse.quote_plus('jayantj1j')\n",
    "\n",
    "client=MongoClient(\"mongodb://%s:%s@mflix-shard-00-00-sgqip.mongodb.net:27017,mflix-shard-00-01-sgqip.mongodb.net:27017,mflix-shard-00-02-sgqip.mongodb.net:27017/mflix?ssl=true&replicaSet=mflix-shard-0&authSource=admin&retryWrites=true\" % (username, password))\n",
    "print(client.mflix)"
   ]
  },
  {
   "cell_type": "code",
   "execution_count": null,
   "metadata": {},
   "outputs": [],
   "source": [
    "import pprint\n",
    "#single pipeline\n",
    "pipeline=[\n",
    "    {                            #stage1\n",
    "        '$group':{                                \n",
    "            '_id':{\"language\":\"$language\"},\n",
    "            'count':{'$sum':1}\n",
    "            \n",
    "        }\n",
    "    },\n",
    "    {\n",
    "        '$sort':{'count':-1}    #stage2\n",
    "    }\n",
    "]\n",
    "pprint.pprint(list(client.mflix.movies_initial.aggregate(pipeline)))"
   ]
  },
  {
   "cell_type": "code",
   "execution_count": null,
   "metadata": {},
   "outputs": [],
   "source": [
    "pipeline1=[\n",
    "    {\n",
    "        '$sortByCount':\"$language\"\n",
    "        \n",
    "    }\n",
    "    \n",
    "]\n",
    "pprint.pprint(list(client.mflix.movies_initial.aggregate(pipeline1)))"
   ]
  },
  {
   "cell_type": "code",
   "execution_count": null,
   "metadata": {},
   "outputs": [],
   "source": [
    "pipeline2=[{'$sortByCount':\"$language\"},                        #stage 1 identified by { }\n",
    "           {\n",
    "               '$facet':{                                           #stage 2\n",
    "                   \n",
    "                   'top language combinations':[{'$limit':100}],     #1st pipeline using facet\n",
    "                                                                                       \n",
    "                   'unusual combinations shared by':[{                #2nd pipeline using facet\n",
    "                                                                    \n",
    "                     '$skip':100\n",
    "                   },\n",
    "          {\n",
    "              \n",
    "              '$bucketAuto':{\n",
    "                  'groupBy':\"$count\",\n",
    "                  \"buckets\":5,\n",
    "                  'output':{\n",
    "                      'language combinations':{'$sum':1}\n",
    "                  }\n",
    "                  \n",
    "                  \n",
    "                  \n",
    "              }\n",
    "              \n",
    "          }]             \n",
    "                       \n",
    "               }           \n",
    "                       \n",
    "                   \n",
    "               }]\n",
    "pprint.pprint(list(client.mflix.movies_initial.aggregate(pipeline2)))                                        \n",
    "                            "
   ]
  },
  {
   "cell_type": "code",
   "execution_count": null,
   "metadata": {},
   "outputs": [],
   "source": [
    "filter = {'language': 'Korean, English'}\n",
    "\n",
    "\n",
    "pprint.pprint(list(client.mflix.movies_initial.find(filter)))\n",
    "\n",
    "\n",
    "\n"
   ]
  },
  {
   "cell_type": "code",
   "execution_count": null,
   "metadata": {},
   "outputs": [],
   "source": [
    "pipeline = [\n",
    "    {\n",
    "        '$match': {'language': 'Korean, English'}  #can use in compass->{'language': 'Korean, English'} to query\n",
    "    }\n",
    "]\n",
    "\n",
    "\n",
    "pprint.pprint(list(client.mflix.movies_initial.aggregate(pipeline)))"
   ]
  }
 ],
 "metadata": {
  "kernelspec": {
   "display_name": "Python 3",
   "language": "python",
   "name": "python3"
  },
  "language_info": {
   "codemirror_mode": {
    "name": "ipython",
    "version": 3
   },
   "file_extension": ".py",
   "mimetype": "text/x-python",
   "name": "python",
   "nbconvert_exporter": "python",
   "pygments_lexer": "ipython3",
   "version": "3.6.5"
  },
  "varInspector": {
   "cols": {
    "lenName": 16,
    "lenType": 16,
    "lenVar": 40
   },
   "kernels_config": {
    "python": {
     "delete_cmd_postfix": "",
     "delete_cmd_prefix": "del ",
     "library": "var_list.py",
     "varRefreshCmd": "print(var_dic_list())"
    },
    "r": {
     "delete_cmd_postfix": ") ",
     "delete_cmd_prefix": "rm(",
     "library": "var_list.r",
     "varRefreshCmd": "cat(var_dic_list()) "
    }
   },
   "types_to_exclude": [
    "module",
    "function",
    "builtin_function_or_method",
    "instance",
    "_Feature"
   ],
   "window_display": false
  }
 },
 "nbformat": 4,
 "nbformat_minor": 2
}
